{
 "cells": [
  {
   "cell_type": "code",
   "execution_count": 9,
   "metadata": {},
   "outputs": [],
   "source": [
    "from kafka import KafkaProducer, KafkaConsumer, KafkaAdminClient\n",
    "from kafka.errors import KafkaError\n",
    "import time"
   ]
  },
  {
   "cell_type": "code",
   "execution_count": 2,
   "metadata": {},
   "outputs": [],
   "source": [
    "TOPIC = 'measurements'\n",
    "BOOTSTRAP_SERVER = 'localhost:9092'"
   ]
  },
  {
   "cell_type": "code",
   "execution_count": 3,
   "metadata": {},
   "outputs": [
    {
     "name": "stdout",
     "output_type": "stream",
     "text": [
      "Topics in the server :  {'measurements', 'measurments'}\n"
     ]
    }
   ],
   "source": [
    "print('Topics in the server : ', KafkaConsumer(TOPIC, bootstrap_servers=BOOTSTRAP_SERVER).topics())"
   ]
  },
  {
   "cell_type": "code",
   "execution_count": 21,
   "metadata": {},
   "outputs": [
    {
     "name": "stdout",
     "output_type": "stream",
     "text": [
      "Kafka connection successful!!!\n"
     ]
    }
   ],
   "source": [
    "def check_kafka_connection(bootstrap_server,topic):\n",
    "    try:\n",
    "        producer = None \n",
    "        consumer = None\n",
    "        # Check producer connection\n",
    "        producer = KafkaProducer(bootstrap_servers=bootstrap_server)\n",
    "        # Check consumer connection\n",
    "        consumer = KafkaConsumer(topic, bootstrap_servers=bootstrap_server)\n",
    "\n",
    "        print(\"Kafka connection successful!!!\")\n",
    "    except KafkaError as e:\n",
    "        print(f\"Failed to connect to Kafka: {e}\")\n",
    "    \n",
    "    finally:\n",
    "        if producer:\n",
    "            producer.close()\n",
    "        if consumer:\n",
    "            consumer.close()\n",
    "\n",
    "check_kafka_connection(BOOTSTRAP_SERVER,TOPIC)"
   ]
  },
  {
   "cell_type": "code",
   "execution_count": 33,
   "metadata": {},
   "outputs": [
    {
     "name": "stdout",
     "output_type": "stream",
     "text": [
      "Consumer started! Waiting to receive data ...\n",
      "Received message: Hello, Kafka!!!\n",
      "Kafka connection successful!!!\n"
     ]
    }
   ],
   "source": [
    "\n",
    "def check_kafka_connection_and_send_message():\n",
    "    bootstrap_servers = 'localhost:9092'\n",
    "    topic_name = 'measurements'\n",
    "    test_message = 'Hello, Kafka!!!'\n",
    "    producer = None \n",
    "    consumer = None\n",
    "\n",
    "    try:\n",
    "        # Create consumer connection\n",
    "        consumer = KafkaConsumer(topic_name, bootstrap_servers=bootstrap_servers,auto_offset_reset='none',\\\n",
    "                                 consumer_timeout_ms=10000,group_id='group-1',enable_auto_commit=True)\n",
    "        print('Consumer started! Waiting to receive data ...')\n",
    "        # time.sleep(10)\n",
    "        # Create producer connection\n",
    "        producer = KafkaProducer(bootstrap_servers=bootstrap_servers)\n",
    "        producer.send(topic_name, value=test_message.encode('utf-8')) # Produce a test message\n",
    "        producer.flush()\n",
    "        # time.sleep(10)\n",
    "\n",
    "        for msg in consumer:\n",
    "            print(f\"Received message: {msg.value.decode()}\")\n",
    "        print(\"Kafka connection successful!!!\")\n",
    "\n",
    "    except KafkaError as e:\n",
    "        print(f\"Failed to connect to Kafka: {e}\")\n",
    "\n",
    "    finally:\n",
    "        if producer:\n",
    "            producer.close()\n",
    "        if consumer:\n",
    "            consumer.close()\n",
    "\n",
    "# Call the function to check the connection and send a test message\n",
    "check_kafka_connection_and_send_message()"
   ]
  }
 ],
 "metadata": {
  "kernelspec": {
   "display_name": "venv",
   "language": "python",
   "name": "python3"
  },
  "language_info": {
   "codemirror_mode": {
    "name": "ipython",
    "version": 3
   },
   "file_extension": ".py",
   "mimetype": "text/x-python",
   "name": "python",
   "nbconvert_exporter": "python",
   "pygments_lexer": "ipython3",
   "version": "3.10.12"
  }
 },
 "nbformat": 4,
 "nbformat_minor": 2
}
